{
 "cells": [
  {
   "cell_type": "markdown",
   "id": "084d5881",
   "metadata": {},
   "source": [
    "Question 1 C#\n",
    "What data type is each of the following?\n"
   ]
  },
  {
   "cell_type": "markdown",
   "id": "2e8d4d43",
   "metadata": {},
   "source": [
    "5\n",
    "5.0\n",
    "5 > 1\n",
    "'5'\n",
    "5 * 2\n",
    "'5' * 2\n",
    "'5' + '2'\n",
    "5 / 2\n",
    "5 % 2\n",
    "{5, 2, 1}\n",
    "5 == 3\n",
    "Pi (the number)"
   ]
  },
  {
   "cell_type": "code",
   "execution_count": null,
   "id": "2bddf06b",
   "metadata": {},
   "outputs": [],
   "source": [
    "5- Int32\n",
    "5.0- Double\n",
    "5>1- Boolean\n",
    "'5'- String\n",
    "5*2- Int32\n",
    "'5'*2- String\n",
    "'5'+'2'- String\n",
    "5/2- Int32\n",
    "5%2- Double\n",
    "{5,2,1}- List\n",
    "5 == 3- Boolean\n",
    "Pi (the number)-Double"
   ]
  },
  {
   "cell_type": "code",
   "execution_count": null,
   "id": "9988a29b",
   "metadata": {},
   "outputs": [],
   "source": []
  },
  {
   "cell_type": "code",
   "execution_count": null,
   "id": "3273b050",
   "metadata": {},
   "outputs": [],
   "source": [
    "string name = \"Supercalifragilisticexpialidocious\";\n",
    "        int nameLength = name.Length;\n",
    "        Console.WriteLine (nameLength);\n"
   ]
  },
  {
   "cell_type": "markdown",
   "id": "c028a412",
   "metadata": {},
   "source": [
    "Question 2 C# \n",
    "Write (and evaluate) C# expressions that answer these questions:"
   ]
  },
  {
   "cell_type": "markdown",
   "id": "ce086dbb",
   "metadata": {},
   "source": [
    "a. How many letters are there in 'Supercalifragilisticexpialidocious'? "
   ]
  },
  {
   "cell_type": "code",
   "execution_count": null,
   "id": "d9f125a9",
   "metadata": {},
   "outputs": [],
   "source": [
    "string name = \"Supercalifragilisticexpialidocious\";\n",
    "int nameLength = name.Length;\n",
    "Console.WriteLine (nameLength);\n"
   ]
  },
  {
   "cell_type": "markdown",
   "id": "b8180d9c",
   "metadata": {},
   "source": [
    "b. Does 'Supercalifragilisticexpialidocious' contain 'ice' as a substring?"
   ]
  },
  {
   "cell_type": "code",
   "execution_count": null,
   "id": "1d2e498f",
   "metadata": {},
   "outputs": [],
   "source": [
    "string name = \"Supercalifragilisticexpialidocious\";\n",
    "string substr1=\"ice\";\n",
    "Console.WriteLine(name.Contains(substr1));\n"
   ]
  },
  {
   "cell_type": "markdown",
   "id": "47961f54",
   "metadata": {},
   "source": [
    "c. Which of the following words is the longest: Supercalifragilisticexpialidocious, Honorificabilitudinitatibus, or Bababadalgharaghtakamminarronnkonn? `"
   ]
  },
  {
   "cell_type": "code",
   "execution_count": 1,
   "id": "63405a51",
   "metadata": {},
   "outputs": [
    {
     "data": {
      "text/html": [
       "\r\n",
       "<div>\r\n",
       "    <div id='dotnet-interactive-this-cell-12530.Microsoft.DotNet.Interactive.Http.HttpPort' style='display: none'>\r\n",
       "        The below script needs to be able to find the current output cell; this is an easy method to get it.\r\n",
       "    </div>\r\n",
       "    <script type='text/javascript'>\r\n",
       "async function probeAddresses(probingAddresses) {\r\n",
       "    function timeout(ms, promise) {\r\n",
       "        return new Promise(function (resolve, reject) {\r\n",
       "            setTimeout(function () {\r\n",
       "                reject(new Error('timeout'))\r\n",
       "            }, ms)\r\n",
       "            promise.then(resolve, reject)\r\n",
       "        })\r\n",
       "    }\r\n",
       "\r\n",
       "    if (Array.isArray(probingAddresses)) {\r\n",
       "        for (let i = 0; i < probingAddresses.length; i++) {\r\n",
       "\r\n",
       "            let rootUrl = probingAddresses[i];\r\n",
       "\r\n",
       "            if (!rootUrl.endsWith('/')) {\r\n",
       "                rootUrl = `${rootUrl}/`;\r\n",
       "            }\r\n",
       "\r\n",
       "            try {\r\n",
       "                let response = await timeout(1000, fetch(`${rootUrl}discovery`, {\r\n",
       "                    method: 'POST',\r\n",
       "                    cache: 'no-cache',\r\n",
       "                    mode: 'cors',\r\n",
       "                    timeout: 1000,\r\n",
       "                    headers: {\r\n",
       "                        'Content-Type': 'text/plain'\r\n",
       "                    },\r\n",
       "                    body: probingAddresses[i]\r\n",
       "                }));\r\n",
       "\r\n",
       "                if (response.status == 200) {\r\n",
       "                    return rootUrl;\r\n",
       "                }\r\n",
       "            }\r\n",
       "            catch (e) { }\r\n",
       "        }\r\n",
       "    }\r\n",
       "}\r\n",
       "\r\n",
       "function loadDotnetInteractiveApi() {\r\n",
       "    probeAddresses([\"http://10.0.0.216:1024/\", \"http://127.0.0.1:1024/\"])\r\n",
       "        .then((root) => {\r\n",
       "        // use probing to find host url and api resources\r\n",
       "        // load interactive helpers and language services\r\n",
       "        let dotnetInteractiveRequire = require.config({\r\n",
       "        context: '12530.Microsoft.DotNet.Interactive.Http.HttpPort',\r\n",
       "                paths:\r\n",
       "            {\r\n",
       "                'dotnet-interactive': `${root}resources`\r\n",
       "                }\r\n",
       "        }) || require;\r\n",
       "\r\n",
       "            window.dotnetInteractiveRequire = dotnetInteractiveRequire;\r\n",
       "\r\n",
       "            window.configureRequireFromExtension = function(extensionName, extensionCacheBuster) {\r\n",
       "                let paths = {};\r\n",
       "                paths[extensionName] = `${root}extensions/${extensionName}/resources/`;\r\n",
       "                \r\n",
       "                let internalRequire = require.config({\r\n",
       "                    context: extensionCacheBuster,\r\n",
       "                    paths: paths,\r\n",
       "                    urlArgs: `cacheBuster=${extensionCacheBuster}`\r\n",
       "                    }) || require;\r\n",
       "\r\n",
       "                return internalRequire\r\n",
       "            };\r\n",
       "        \r\n",
       "            dotnetInteractiveRequire([\r\n",
       "                    'dotnet-interactive/dotnet-interactive'\r\n",
       "                ],\r\n",
       "                function (dotnet) {\r\n",
       "                    dotnet.init(window);\r\n",
       "                },\r\n",
       "                function (error) {\r\n",
       "                    console.log(error);\r\n",
       "                }\r\n",
       "            );\r\n",
       "        })\r\n",
       "        .catch(error => {console.log(error);});\r\n",
       "    }\r\n",
       "\r\n",
       "// ensure `require` is available globally\r\n",
       "if ((typeof(require) !==  typeof(Function)) || (typeof(require.config) !== typeof(Function))) {\r\n",
       "    let require_script = document.createElement('script');\r\n",
       "    require_script.setAttribute('src', 'https://cdnjs.cloudflare.com/ajax/libs/require.js/2.3.6/require.min.js');\r\n",
       "    require_script.setAttribute('type', 'text/javascript');\r\n",
       "    \r\n",
       "    \r\n",
       "    require_script.onload = function() {\r\n",
       "        loadDotnetInteractiveApi();\r\n",
       "    };\r\n",
       "\r\n",
       "    document.getElementsByTagName('head')[0].appendChild(require_script);\r\n",
       "}\r\n",
       "else {\r\n",
       "    loadDotnetInteractiveApi();\r\n",
       "}\r\n",
       "\r\n",
       "    </script>\r\n",
       "</div>"
      ]
     },
     "metadata": {},
     "output_type": "display_data"
    },
    {
     "name": "stderr",
     "output_type": "stream",
     "text": [
      "\n",
      "(11,57): error CS1002: ; expected\n",
      "\n",
      "(13,126): error CS1002: ; expected\n",
      "\n",
      "(14,26): error CS8641: 'else' cannot start a statement.\n",
      "\n",
      "(14,26): error CS1003: Syntax error, '(' expected\n",
      "\n",
      "(14,26): error CS1525: Invalid expression term 'else'\n",
      "\n",
      "(14,26): error CS1026: ) expected\n",
      "\n",
      "(14,26): error CS1525: Invalid expression term 'else'\n",
      "\n",
      "(14,26): error CS1002: ; expected\n",
      "\n",
      "(16,57): error CS1002: ; expected\n",
      "\n",
      "(18,126): error CS1002: ; expected\n",
      "\n",
      "(19,26): error CS1513: } expected\n",
      "\n",
      "(19,26): error CS1513: } expected\n",
      "\n"
     ]
    },
    {
     "ename": "Error",
     "evalue": "compilation error",
     "output_type": "error",
     "traceback": []
    }
   ],
   "source": [
    "string substr1 = \"Supercalifragilisticexpialidocious\";\n",
    "string substr2=\"Honorificabilitudinitatibus\";\n",
    "string substr3=\"Bababadalgharaghtakamminarronnkonn\";\n",
    "int Str1Length = substr1.Length;\n",
    "int Str2Length = substr2.Length;\n",
    "int Str3Length = substr3.Length;\n",
    "if((Str1Length>Str2Length) && (Str1Length>Str3Length)){\n",
    "    \n",
    "                          Console.WriteLine (\"The longest string is: \" + substr1 + \" And the String length is: \"+Str1Length);  \n",
    "                        }\n",
    "else((Str2Length>Str1Length) && (Str2Length>Str3Length)){\n",
    "                        {\n",
    "                           Console.WriteLine (\"The longest string is: \" + substr2 + \" And the String length is: \"+Str2Length)  \n",
    "                        }\n",
    "                \n",
    "else((Str3Length>Str1Length) && (Str3Length>Str2Length)){\n",
    "                        {\n",
    "                           Console.WriteLine (\"The longest string is: \" + substr3 + \" And the String length is: \"+Str3Length)  \n",
    "                        }"
   ]
  },
  {
   "cell_type": "code",
   "execution_count": 5,
   "id": "26ec7d48",
   "metadata": {},
   "outputs": [
    {
     "name": "stdout",
     "output_type": "stream",
     "text": [
      "The Even  Number\n",
      "42\n",
      "56\n",
      "32\n",
      "The Odd  Number\n",
      "25\n",
      "47\n"
     ]
    }
   ],
   "source": [
    "int[]arr = new int[5];//creating array  \n",
    "        arr[0] = 25;//initializing array  \n",
    "        arr[1] = 47;  \n",
    "        arr[2] = 42; \n",
    "        arr[3] = 56;\n",
    "        arr[4]=  32;\n",
    "           Console.WriteLine(\"The Even  Number\");\n",
    "        for(int i=0;i<5;i++)\n",
    "        {\n",
    "            if(arr[i]%2==0)\n",
    "            {\n",
    "            Console.WriteLine(arr[i]);  \n",
    "            }\n",
    "        }\n",
    "        Console.WriteLine(\"The Odd  Number\"); \n",
    "          for(int i=0;i<5;i++)\n",
    "        {\n",
    "            if(arr[i]%2!=0)\n",
    "            {\n",
    "            Console.WriteLine(arr[i]);  \n",
    "}\n",
    "}"
   ]
  },
  {
   "cell_type": "code",
   "execution_count": null,
   "id": "e1289cd0",
   "metadata": {},
   "outputs": [],
   "source": []
  }
 ],
 "metadata": {
  "kernelspec": {
   "display_name": ".NET (C#)",
   "language": "C#",
   "name": ".net-csharp"
  },
  "language_info": {
   "file_extension": ".cs",
   "mimetype": "text/x-csharp",
   "name": "C#",
   "pygments_lexer": "csharp",
   "version": "10.0"
  }
 },
 "nbformat": 4,
 "nbformat_minor": 5
}

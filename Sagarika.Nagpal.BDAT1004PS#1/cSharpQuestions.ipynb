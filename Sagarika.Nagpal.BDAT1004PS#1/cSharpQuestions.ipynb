{
 "cells": [
  {
   "cell_type": "markdown",
   "id": "ef10f46d",
   "metadata": {},
   "source": [
    "# Question 1 C# \n",
    "What data type is each of the following?\n",
    "\n",
    "5\n",
    "\n",
    "5.0\n",
    "\n",
    "5 > 1\n",
    "\n",
    "'5'\n",
    "\n",
    "5 * 2\n",
    "\n",
    "'5' * 2\n",
    "\n",
    "'5' + '2'\n",
    "\n",
    "5 / 2\n",
    "\n",
    "5 % 2\n",
    "\n",
    "{5, 2, 1}\n",
    "\n",
    "5 == 3\n",
    "\n",
    "Pi (the number)"
   ]
  },
  {
   "cell_type": "code",
   "execution_count": null,
   "id": "2bddf06b",
   "metadata": {},
   "outputs": [],
   "source": [
    "5- Int32\n",
    "5.0- Double\n",
    "5>1- Boolean\n",
    "'5'- String\n",
    "5*2- Int32\n",
    "'5'*2- String\n",
    "'5'+'2'- String\n",
    "5/2- Int32\n",
    "5%2- Double\n",
    "{5,2,1}- List\n",
    "5 == 3- Boolean\n",
    "Pi (the number)-Double"
   ]
  },
  {
   "cell_type": "markdown",
   "id": "d044040a",
   "metadata": {},
   "source": [
    "# Question 2 C#\n",
    "Write (and evaluate) C# expressions that answer these questions:"
   ]
  },
  {
   "cell_type": "markdown",
   "id": "dba53a35",
   "metadata": {},
   "source": [
    "#### a. How many letters are there in 'Supercalifragilisticexpialidocious'?"
   ]
  },
  {
   "cell_type": "code",
   "execution_count": 5,
   "id": "3273b050",
   "metadata": {},
   "outputs": [
    {
     "name": "stdout",
     "output_type": "stream",
     "text": [
      "34\n"
     ]
    }
   ],
   "source": [
    "string name = \"Supercalifragilisticexpialidocious\";\n",
    "        int nameLength = name.Length;\n",
    "        Console.WriteLine (nameLength);\n"
   ]
  },
  {
   "cell_type": "markdown",
   "id": "8bb8082a",
   "metadata": {},
   "source": [
    "#### b. Does 'Supercalifragilisticexpialidocious' contain 'ice' as a substring?"
   ]
  },
  {
   "cell_type": "code",
   "execution_count": 6,
   "id": "1d2e498f",
   "metadata": {},
   "outputs": [
    {
     "name": "stdout",
     "output_type": "stream",
     "text": [
      "True\n"
     ]
    }
   ],
   "source": [
    "string name = \"Supercalifragilisticexpialidocious\";\n",
    "string substr1=\"ice\";\n",
    "Console.WriteLine(name.Contains(substr1));\n"
   ]
  },
  {
   "cell_type": "markdown",
   "id": "47961f54",
   "metadata": {},
   "source": [
    "#### c. Which of the following words is the longest: Supercalifragilisticexpialidocious, Honorificabilitudinitatibus, or Bababadalgharaghtakamminarronnkonn? `"
   ]
  },
  {
   "cell_type": "code",
   "execution_count": 7,
   "id": "63405a51",
   "metadata": {},
   "outputs": [
    {
     "name": "stdout",
     "output_type": "stream",
     "text": [
      "string one: Supercalifragilisticexpialidocious length: 34 and string three: Bababadalgharaghtakamminarronnkonn length: 34 are same\n"
     ]
    }
   ],
   "source": [
    "string substr1 = \"Supercalifragilisticexpialidocious\";\n",
    "        string substr2=\"Honorificabilitudinitatibus\";\n",
    "        string substr3=\"Bababadalgharaghtakamminarronnkonn\";\n",
    "        int Str1Length = substr1.Length;\n",
    "        int Str2Length = substr2.Length;\n",
    "        int Str3Length = substr3.Length;\n",
    "\n",
    "        if(Str1Length==Str2Length)\n",
    "        {\n",
    "                Console.WriteLine (\"string one: \"+ substr1+\" length: \" +Str1Length+ \" and string three: \"+substr2+\" length: \" +Str2Length+ \" are same\" );\n",
    "        }\n",
    "        else if(Str1Length==Str3Length)\n",
    "        {\n",
    "            Console.WriteLine (\"string one: \"+ substr1+\" length: \" +Str1Length+ \" and string three: \"+substr3+\" length: \" +Str3Length+ \" are same\" );\n",
    "        }\n",
    "        else if(Str2Length==Str3Length)\n",
    "        {\n",
    "          Console.WriteLine (\"string one: \"+ substr2+\" length: \" +Str2Length+ \" and string three: \"+substr3+\" length: \" +Str3Length+ \" are same\" );\n",
    "        }\n",
    "        else\n",
    "        \n",
    "        {\n",
    "        if(Str1Length>Str2Length && Str1Length>Str3Length)\n",
    "        {\n",
    "             Console.WriteLine (\"The longest string is: \" + substr1 + \" And the String length is: \"+Str1Length);  \n",
    "        }\n",
    "        else if(Str2Length>Str1Length && Str2Length>Str3Length)\n",
    "        {\n",
    "                Console.WriteLine (\"The longest string is: \" + substr2 + \" And the String length is: \"+Str2Length);   \n",
    "        }\n",
    "        else if(Str3Length>Str1Length && Str3Length>Str2Length)\n",
    "        {\n",
    "           Console.WriteLine (\"The longest string is: \" + substr3 + \" And the String length is: \"+Str3Length);  \n",
    "        }\n",
    "        }"
   ]
  },
  {
   "cell_type": "markdown",
   "id": "367e2a1e",
   "metadata": {},
   "source": [
    "#### d. Which composer comes first in the dictionary: 'Berlioz', 'Borodin', 'Brian',\n",
    "'Bartok', 'Bellini', 'Buxtehude', 'Bernstein'. Which one comes last?"
   ]
  },
  {
   "cell_type": "code",
   "execution_count": 16,
   "id": "965d0045",
   "metadata": {},
   "outputs": [
    {
     "name": "stdout",
     "output_type": "stream",
     "text": [
      "Bartok, Bellini, Berlioz, Bernstein, Borodin, Brian, Buxtehude\n"
     ]
    }
   ],
   "source": [
    "var words = new List<string> {\"Berlioz\", \"Borodin\", \"Brian\", \"Bartok\", \"Bellini\", \"Buxtehude\", \"Bernstein\"};\n",
    "\n",
    "words.Sort();\n",
    "Console.WriteLine(string.Join(\", \", words));\n"
   ]
  },
  {
   "cell_type": "markdown",
   "id": "c89a97f3",
   "metadata": {},
   "source": [
    "### Bartok Comes First , Buxtehude Comes Last"
   ]
  },
  {
   "cell_type": "markdown",
   "id": "e6152a94",
   "metadata": {},
   "source": [
    "# Question 3 C#"
   ]
  },
  {
   "cell_type": "markdown",
   "id": "ee6e644a",
   "metadata": {},
   "source": [
    "#### Implement function triangleArea(a,b,c) that takes as input the lengths of the 3\n",
    "sides of a triangle and returns the area of the triangle. By Heron's formula, the area\n",
    "of a triangle with side lengths a, b, and c is\n",
    "s(s - a)(s -b)(s -c)\n",
    ", where\n",
    "s = (a+b+c)/2.\n",
    ">>> triangleArea(2,2,2)\n",
    "1.7320508075688772"
   ]
  },
  {
   "cell_type": "code",
   "execution_count": 39,
   "id": "22fb54d8",
   "metadata": {},
   "outputs": [
    {
     "name": "stdout",
     "output_type": "stream",
     "text": [
      "Value of side1 = 2, side2 = 2, side3 = 2\n",
      "Area of Triangle is = 1.7320508075688772\n"
     ]
    }
   ],
   "source": [
    "int s1 = 2 , s2 = 2 , s3 = 2 ;\n",
    "Console.WriteLine($\"Value of side1 = {s1}, side2 = {s2}, side3 = {s3}\");\n",
    "double s = (s1 + s2 + s3) / 2;\n",
    "double Area = Math.Sqrt(s * (s - s1) * (s - s2) * (s - s3));\n",
    "Console.WriteLine(\"Area of Triangle is = \" + Area);\n",
    "Console.ReadLine();"
   ]
  },
  {
   "cell_type": "markdown",
   "id": "ac330817",
   "metadata": {},
   "source": [
    "# Question 4 C"
   ]
  },
  {
   "cell_type": "markdown",
   "id": "c2b64f22",
   "metadata": {},
   "source": [
    "#### Write a program in C# Sharp to separate odd and even integers in separate arrays.\n",
    "Go to the editor\n",
    "Test Data :\n",
    "Input the number of elements to be stored in the array :5\n",
    "Input 5 elements in the array :\n",
    "element - 0 : 25\n",
    "element - 1 : 47\n",
    "element - 2 : 42\n",
    "element - 3 : 56\n",
    "element - 4 : 32\n",
    "Expected Output:\n",
    "The Even elements are:\n",
    "42 56 32\n",
    "The Odd elements are :\n",
    "25 47"
   ]
  },
  {
   "cell_type": "code",
   "execution_count": 4,
   "id": "4ba7097b",
   "metadata": {},
   "outputs": [
    {
     "name": "stdout",
     "output_type": "stream",
     "text": [
      "The Even  Number\n",
      "42\n",
      "56\n",
      "32\n",
      "The Odd  Number\n",
      "25\n",
      "47\n"
     ]
    }
   ],
   "source": [
    "int[]arr = new int[5];//creating array  \n",
    "        arr[0] = 25;//initializing array  \n",
    "        arr[1] = 47;  \n",
    "        arr[2] = 42; \n",
    "        arr[3] = 56;\n",
    "        arr[4]=  32;\n",
    "           Console.WriteLine(\"The Even  Number\");\n",
    "        for(int i=0;i<5;i++)\n",
    "        {\n",
    "            if(arr[i]%2==0)\n",
    "            {\n",
    "            Console.WriteLine(arr[i]);  \n",
    "            }\n",
    "        }\n",
    "        Console.WriteLine(\"The Odd  Number\"); \n",
    "          for(int i=0;i<5;i++)\n",
    "        {\n",
    "            if(arr[i]%2!=0)\n",
    "            {\n",
    "            Console.WriteLine(arr[i]);  \n",
    "}\n",
    "}"
   ]
  },
  {
   "cell_type": "markdown",
   "id": "21da1439",
   "metadata": {},
   "source": [
    "# Question 5 C#"
   ]
  },
  {
   "cell_type": "markdown",
   "id": "9f550229",
   "metadata": {},
   "source": [
    "#### Write a function inside(x,y,x1,y1,x2,y2) that returns True or False\n",
    "depending on whether the point (x,y) lies in the rectangle with lower left\n",
    "corner (x1,y1) and upper right corner (x2,y2).\n",
    ">>> inside(1,1,0,0,2,3)---->True\n",
    "\n",
    ">>> inside(-1,-1,0,0,2,3)---->False"
   ]
  },
  {
   "cell_type": "code",
   "execution_count": 93,
   "id": "40e4395e",
   "metadata": {},
   "outputs": [
    {
     "name": "stdout",
     "output_type": "stream",
     "text": [
      "True"
     ]
    }
   ],
   "source": [
    "bool FindPoint(int x1, int y1, int x2,int y2, int x, int y)\n",
    "{\n",
    "if (x > x1 && x < x2 &&\n",
    "    y > y1 && y < y2)\n",
    "    return true;\n",
    " \n",
    "return false;\n",
    "}\n",
    " \n",
    "{\n",
    "     \n",
    "    // bottom-left and top-right\n",
    "    // corners of rectangle\n",
    "    int x1 = 0, y1 = 0,\n",
    "        x2 = 2, y2 = 3;\n",
    " \n",
    "    // given point\n",
    "    int x = 1, y = 1;\n",
    " \n",
    "    // function call\n",
    "    if (FindPoint(x1, y1, x2, y2, x, y))\n",
    "        Console.Write(\"True\");\n",
    "    else\n",
    "        Console.Write(\"False\");\n",
    "}\n"
   ]
  },
  {
   "cell_type": "code",
   "execution_count": 71,
   "id": "f9210e4d",
   "metadata": {},
   "outputs": [
    {
     "name": "stdout",
     "output_type": "stream",
     "text": [
      "False"
     ]
    }
   ],
   "source": [
    "bool FindPoint(int x1, int y1, int x2,int y2, int x, int y)\n",
    "{\n",
    "if (x > x1 && x < x2 &&\n",
    "    y > y1 && y < y2)\n",
    "    return true;\n",
    " \n",
    "return false;\n",
    "}\n",
    " \n",
    "{\n",
    "     \n",
    "    // bottom-left and top-right\n",
    "    // corners of rectangle\n",
    "    int x1 = 0, y1 = 0,\n",
    "        x2 = 2, y2 = 3;\n",
    " \n",
    "    // given point\n",
    "    int x = -1, y = -1;\n",
    " \n",
    "    // function call\n",
    "    if (FindPoint(x1, y1, x2, y2, x, y))\n",
    "        Console.Write(\"True\");\n",
    "    else\n",
    "        Console.Write(\"False\");\n",
    "}"
   ]
  },
  {
   "cell_type": "markdown",
   "id": "460cd56b",
   "metadata": {},
   "source": [
    "#### b. Use function inside() from part a. to write an expression that tests whether\n",
    "the point (1,1) lies in both of the following rectangles: one with lower left\n",
    "corner (0.3, 0.5) and upper right corner (1.1, 0.7) and the other with lower\n",
    "left corner (0.5, 0.2) and upper right corner (1.1, 2). "
   ]
  },
  {
   "cell_type": "code",
   "execution_count": 91,
   "id": "dda773b6",
   "metadata": {},
   "outputs": [
    {
     "name": "stdout",
     "output_type": "stream",
     "text": [
      "False"
     ]
    }
   ],
   "source": [
    "bool FindPoint(double x1, double y1, double x2, double y2, double x,double y)\n",
    "{\n",
    "if (x > x1 && x < x2 &&\n",
    "    y > y1 && y < y2)\n",
    "    return true;\n",
    " \n",
    "return false;\n",
    "}\n",
    " \n",
    "{\n",
    "     \n",
    "    // bottom-left and top-right\n",
    "    // corners of rectangle\n",
    "    double x1 = 0.3, y1 = 0.5,\n",
    "        x2 = 1.1, y2 = 0.7;\n",
    " \n",
    "    // given point\n",
    "   double x = 1, y = 1;\n",
    " \n",
    "    // function call\n",
    "    if (FindPoint(x1, y1, x2, y2, x, y))\n",
    "        Console.Write(\"True\");\n",
    "    else\n",
    "        Console.Write(\"False\");\n",
    "}\n",
    " "
   ]
  },
  {
   "cell_type": "code",
   "execution_count": 92,
   "id": "6ccc1563",
   "metadata": {},
   "outputs": [
    {
     "name": "stdout",
     "output_type": "stream",
     "text": [
      "False"
     ]
    }
   ],
   "source": [
    "bool FindPoint(double x1, double y1, double x2, double y2, double x,double y)\n",
    "{\n",
    "if (x > x1 && x < x2 &&\n",
    "    y > y1 && y < y2)\n",
    "    return true;\n",
    " \n",
    "return false;\n",
    "}\n",
    " \n",
    "{\n",
    "     \n",
    "    // bottom-left and top-right\n",
    "    // corners of rectangle\n",
    "    double x1 = 0.5, y1 = 0.2,\n",
    "        x2 = 1.1, y2 = 0.2;\n",
    " \n",
    "    // given point\n",
    "   double x = 1, y = 1;\n",
    " \n",
    "    // function call\n",
    "    if (FindPoint(x1, y1, x2, y2, x, y))\n",
    "        Console.Write(\"True\");\n",
    "    else\n",
    "        Console.Write(\"False\");\n",
    "}"
   ]
  },
  {
   "cell_type": "markdown",
   "id": "66f98293",
   "metadata": {},
   "source": [
    "# Reference:"
   ]
  },
  {
   "cell_type": "markdown",
   "id": "9e0b0ee3",
   "metadata": {},
   "source": [
    "#### Bodnar, J. (n.d.). C# sort list. C# sort List - sorting list elements in C# language. Retrieved October 13, 2022, from https://zetcode.com/csharp/sortlist/ "
   ]
  },
  {
   "cell_type": "markdown",
   "id": "6a34c34f",
   "metadata": {},
   "source": [
    "#### https://stackoverflow.com/"
   ]
  },
  {
   "cell_type": "markdown",
   "id": "0ce8ee97",
   "metadata": {},
   "source": [
    "#### Check if a point lies inside a rectangle: Set-2. GeeksforGeeks. (2022, August 18). Retrieved October 13, 2022, from https://www.geeksforgeeks.org/check-if-a-point-lies-on-or-inside-a-rectangle-set-2/ "
   ]
  }
 ],
 "metadata": {
  "kernelspec": {
   "display_name": ".NET (C#)",
   "language": "C#",
   "name": ".net-csharp"
  },
  "language_info": {
   "file_extension": ".cs",
   "mimetype": "text/x-csharp",
   "name": "C#",
   "pygments_lexer": "csharp",
   "version": "10.0"
  }
 },
 "nbformat": 4,
 "nbformat_minor": 5
}
